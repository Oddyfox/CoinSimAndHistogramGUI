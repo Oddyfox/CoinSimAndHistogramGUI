{
 "cells": [
  {
   "cell_type": "code",
   "execution_count": 1,
   "metadata": {},
   "outputs": [],
   "source": [
    "from PyQt5 import QtCore as QtC\n",
    "from PyQt5 import QtGui as QtG\n",
    "from PyQt5 import QtWidgets as QtW\n",
    "from matplotlib.backends.backend_qt5agg import FigureCanvasQTAgg as FigureCanvas\n",
    "from matplotlib.figure import Figure\n",
    "import numpy as np\n",
    "import numpy.random as random\n",
    "import matplotlib.pyplot as plt\n",
    "import os, sys"
   ]
  },
  {
   "cell_type": "code",
   "execution_count": 2,
   "metadata": {},
   "outputs": [],
   "source": [
    "def simncoins( coins, sims ):\n",
    "    icoins = int(float(coins))\n",
    "    isims = int(float(sims))\n",
    "    \n",
    "    outcome = random.rand( icoins, isims )\n",
    "    tally = np.sum( outcome > 0.5 , axis = 0 ) \n",
    "    return(tally)"
   ]
  },
  {
   "cell_type": "code",
   "execution_count": 3,
   "metadata": {},
   "outputs": [],
   "source": [
    "class PlotCanvas( FigureCanvas ):\n",
    "    def __init__( self, parent= None ):\n",
    "        self.fig = Figure( )\n",
    "        \n",
    "        self.axes = self.fig.add_subplot(111)\n",
    "        \n",
    "        FigureCanvas.__init__( self, self.fig )\n",
    "        self.parent = parent\n",
    "        \n",
    "        FigureCanvas.updateGeometry( self )\n",
    "        \n",
    "    def plot( self ):\n",
    "        self.icoins = int(float(self.parent.coinsEdit.text()))\n",
    "        self.isims = int(float(self.parent.simsEdit.text()))\n",
    "        \n",
    "        self.axes.cla( )\n",
    "        \n",
    "        if self.icoins and self.isims != ( '' or None ):\n",
    "            self.tally = simncoins( self.icoins, self.isims )\n",
    "            \n",
    "        self.axes.hist( self.tally, bins = self.icoins + 1, range = ( -0.5, self.icoins + 0.5 ) , rwidth = 0.75 )\n",
    "        self.axes.set_title( '%a Coins and %a Simulations; O. Fox' % (self.icoins, self.isims) )\n",
    "        self.axes.set_xlabel( '# of Heads' )\n",
    "        self.draw( )\n",
    "        "
   ]
  },
  {
   "cell_type": "code",
   "execution_count": 4,
   "metadata": {},
   "outputs": [],
   "source": [
    "class CentralWidget( QtW.QWidget ):\n",
    "    def __init__( self, parent ):\n",
    "        super( CentralWidget, self).__init__( parent )\n",
    "        self.initUI( )\n",
    "        \n",
    "    def plotHist( self ):\n",
    "        if self.coinsEdit.text() and self.simsEdit.text() != ( '' or None ):\n",
    "            self.tally = simncoins( self.coinsEdit.text() , self.simsEdit.text( ) )              \n",
    "        self.plotWindow.plot( )\n",
    "        return( self.tally )\n",
    "        \n",
    "    def savePlot( self ):\n",
    "        namePicker = QtW.QFileDialog.getSaveFileName( self, 'Save Plot Image', filter = \"*.png\" )\n",
    "        self.plotWindow.fig.savefig( namePicker[0] )\n",
    "    \n",
    "    def initUI( self ):\n",
    "        \n",
    "        self.coins = QtW.QLabel( 'Number of Coins' )\n",
    "        self.sims = QtW.QLabel( 'Number of Simulations' )\n",
    "        \n",
    "        self.coinsEdit = QtW.QLineEdit( )\n",
    "        self.simsEdit = QtW.QLineEdit( )\n",
    "        self.intValidator = QtG.QDoubleValidator( )\n",
    "        self.intValidator.setDecimals( 0 )\n",
    "        self.coinsEdit.setValidator( self.intValidator )\n",
    "        self.simsEdit.setValidator( self.intValidator )\n",
    "        \n",
    "        self.plotButton = QtW.QPushButton( 'Plot Histogram' )\n",
    "        self.plotButton.clicked.connect( self.plotHist )\n",
    "        \n",
    "        self.saveButton = QtW.QPushButton( 'Save Plot Image' )\n",
    "        self.saveButton.clicked.connect( self.savePlot )\n",
    "        \n",
    "        self.firstRow = QtW.QHBoxLayout( )\n",
    "        self.firstRow.addWidget( self.coins )\n",
    "        self.firstRow.addWidget( self.coinsEdit )\n",
    "        self.firstRow.addWidget( self.plotButton )\n",
    "        \n",
    "        self.secondRow = QtW.QHBoxLayout( )\n",
    "        self.secondRow.addWidget( self.sims )\n",
    "        self.secondRow.addWidget( self.simsEdit )\n",
    "        self.secondRow.addWidget( self.saveButton )\n",
    "        \n",
    "        self.plotWindow = PlotCanvas( self )\n",
    "        \n",
    "        self.mainLayout = QtW.QVBoxLayout( )\n",
    "        self.mainLayout.addLayout( self.firstRow )\n",
    "        self.mainLayout.addLayout( self.secondRow )\n",
    "        #self.mainLayout.addStretch( 1 )\n",
    "        \n",
    "        self.mainLayout.addWidget( self.plotWindow )\n",
    "        \n",
    "        self.setLayout( self.mainLayout )\n",
    "        self.show()"
   ]
  },
  {
   "cell_type": "code",
   "execution_count": 5,
   "metadata": {},
   "outputs": [],
   "source": [
    "class MainGUI( QtW.QMainWindow ):\n",
    "    def __init__( self ):\n",
    "        super( MainGUI, self ).__init__( )\n",
    "        self.initUI( )\n",
    "        \n",
    "    def fileQuit( self ):\n",
    "        self.close( )\n",
    "        \n",
    "    def fileMenu( self ):\n",
    "        self.fileMenu = QtW.QMenu( '&File', self)\n",
    "        self.fileMenu.addAction( '&Quit', self.fileQuit, QtC.Qt.CTRL + QtC.Qt.Key_Q)\n",
    "        self.menuBar( ).addMenu( self.fileMenu )\n",
    "   \n",
    "    def initUI( self ):\n",
    "        self.setMinimumSize( 500, 500 )\n",
    "        self.fileMenu( )\n",
    "        \n",
    "        self.mainWidget = CentralWidget( self )\n",
    "        self.setCentralWidget( self.mainWidget )      \n",
    "        self.show( )"
   ]
  },
  {
   "cell_type": "code",
   "execution_count": 6,
   "metadata": {
    "scrolled": false
   },
   "outputs": [],
   "source": [
    "if __name__=='__main__':\n",
    "    app = 0\n",
    "    app = QtW.QApplication( sys.argv )\n",
    "    mg = MainGUI( )\n",
    "    app.exec_( )   "
   ]
  },
  {
   "cell_type": "code",
   "execution_count": 8,
   "metadata": {},
   "outputs": [],
   "source": [
    "plt.plot??"
   ]
  },
  {
   "cell_type": "code",
   "execution_count": null,
   "metadata": {},
   "outputs": [],
   "source": []
  }
 ],
 "metadata": {
  "kernelspec": {
   "display_name": "Python 3",
   "language": "python",
   "name": "python3"
  },
  "language_info": {
   "codemirror_mode": {
    "name": "ipython",
    "version": 3
   },
   "file_extension": ".py",
   "mimetype": "text/x-python",
   "name": "python",
   "nbconvert_exporter": "python",
   "pygments_lexer": "ipython3",
   "version": "3.7.1"
  }
 },
 "nbformat": 4,
 "nbformat_minor": 2
}
